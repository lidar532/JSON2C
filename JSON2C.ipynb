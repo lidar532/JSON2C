{
  "nbformat": 4,
  "nbformat_minor": 0,
  "metadata": {
    "colab": {
      "name": "JSON2C.ipynb",
      "private_outputs": true,
      "provenance": [],
      "collapsed_sections": [],
      "toc_visible": true,
      "authorship_tag": "ABX9TyOi+tczVQ952vAEAXGCvuHv",
      "include_colab_link": true
    },
    "kernelspec": {
      "name": "python3",
      "display_name": "Python 3"
    },
    "language_info": {
      "name": "python"
    }
  },
  "cells": [
    {
      "cell_type": "markdown",
      "metadata": {
        "id": "view-in-github",
        "colab_type": "text"
      },
      "source": [
        "<a href=\"https://colab.research.google.com/github/lidar532/JSON2C/blob/main/JSON2C.ipynb\" target=\"_parent\"><img src=\"https://colab.research.google.com/assets/colab-badge.svg\" alt=\"Open In Colab\"/></a>"
      ]
    },
    {
      "cell_type": "markdown",
      "source": [
        "# Convert JSON string to a \"C\" sprintf formatting string.\n",
        "Enter or paste a JSON string below that you would like to conver to a \"C\" sprintf formatting\n",
        "statement for use in an Arduino or other project.  The JSON will be converted to a\n",
        "compilable \"C\" language formatting string you can copy to your Arduino code.  You can use [JASONata](https://try.jsonata.org/) or [JSON Editor Online](https://jsoneditoronline.org/) or other JSON tool to build, verify, and test your JSON string. Simply use \"C\" formatting specifiers where your values go, and js2C will generate the \"C\" formatting string for you.  Note that you can enter a \"C\" comment \n",
        "by using the `\"comment_\"` JSON key and placing your comment text as the value string.  You can name your \"C\" format variable with the JSON key `\"format_name_\"` with the desired \"C\" name in the value string.  See the example below.  I enclosed my JSON in triple quotes `'''` but it should work ok with single quotes as well.  After you enter your JSON string, press the Run arrow button to load it into the js variable. "
      ],
      "metadata": {
        "id": "lICiFEP_PSKq"
      }
    },
    {
      "cell_type": "code",
      "execution_count": null,
      "metadata": {
        "id": "UE4kOvQ171GW"
      },
      "outputs": [],
      "source": [
        "js = '''\n",
        "{ \n",
        "  \"format_name_\":\"my_name\",\n",
        "  \"comment_\": \" This is a comment. It can contain numbers and any of the following chars {}[],.;?<>| %^&*()@#$ : %!\",\n",
        "  \"myJSON\": {\n",
        "    \"dest\": \"%s\",\n",
        "    \"sss\": \"%-19.2f\",\n",
        "    \"flash\": [\n",
        "      \"%f\",\n",
        "      \"%4.2lf\",\n",
        "      \"%ld\",\n",
        "      \"%lu\",\n",
        "      \"%u\",\n",
        "      \"%d\",\n",
        "      \"%c\"\n",
        "    ]\n",
        "  }\n",
        "}\n",
        "'''"
      ]
    },
    {
      "cell_type": "code",
      "source": [
        "#@title Click the Run button to do the conversion.  { display-mode: \"form\" }\n",
        "#@markdown Your orginal JSON will be encapsulated in \n",
        "#@markdown within a \"C\" ```/* comment */``` block and\n",
        "#@markdown the \"C\" format string below.  Copy and paste the resulting \n",
        "#@markdown comments and code into your project.\n",
        "import re\n",
        "\n",
        "def js2c( js, comment=\"\" ):\n",
        "  '''\n",
        "  j2sc( js).  Converts a JSON message string that contains \"C\" language\n",
        "  format specifiers into an actual \"C\" formatting string for use with\n",
        "  sprintf or printf.  The purpose is to allow one to build and test\n",
        "  a JSON string using JSONata, or other JSON tool, and then automatically\n",
        "  convert it to a \"C\" formatting string.\n",
        "\n",
        "  Regex expressions developed using: https://regex101.com/\n",
        "  Testing JSON strings was done with: https://try.jsonata.org/\n",
        "  \"C\" verification was done using: https://www.onlinegdb.com/#\n",
        "\n",
        "  '''\n",
        "# Extract the variable definition name, if any,\n",
        "# leaving it in var_def, and the updated js with the\n",
        "# var_def removed in js2\n",
        "\n",
        "  regex = \"(^\\s+\\\"comment_\\\"\\s*:\\s*)(\\\")([\\sa-zA-Z\\.\\d%!@#$%^&\\*\\(\\)\\[\\]\\{\\}[<\\>;:|,\\?]+)(\\\")\\s*,\"\n",
        "  m = re.search(regex, js, re.MULTILINE )\n",
        "  #print(m)\n",
        "  if m:\n",
        "    js1 = js[0:m.start()]+js[m.end():]\n",
        "    comment = f'{m.groups()[2]}'\n",
        "    js2 = js1[0:m.start()]+js1[m.end():]\n",
        "    #print(f'/*\\n {comment}\\n/*\\n {js1}')\n",
        "  else:\n",
        "    comment = \"\"\n",
        "    js2 = js\n",
        "\n",
        "  regex = \"[ \\t]*\\\"format_name_\\\"\\ *: *(\\\")(.*)(\\\"),[\\s\\n]*\"\n",
        "  m = re.search(regex, js1, re.MULTILINE )\n",
        "  if m:\n",
        "    js2 = js1[0:m.start()]+js1[m.end():]\n",
        "    var_def = f'const char {m.groups()[1]}[] = \"\"'\n",
        "  else:\n",
        "    var_def = f'const char var_def[] = \"\"'\n",
        "    js2 = js1\n",
        "  #return js2\n",
        "\n",
        "  regex = r\"(\\\")([%][\\d]*\\.*[\\d]*l?f)(\\\")\"          # %f %lf\n",
        "  subst = \"\\\\2\"\n",
        "  js3 = re.sub(regex, subst, js2, 0, re.MULTILINE)\n",
        "  #return js4\n",
        "\n",
        "  regex = r\"(\\\")([%][\\d]*[ul]?[ldu])(\\\")\"           # %u %d %ul %ld\n",
        "  subst = \"\\\\2\"\n",
        "  js4 = re.sub(regex, subst, js3, 0, re.MULTILINE)\n",
        "  #return js4\n",
        "\n",
        "  regex = r\"(\\\")([%][\\d]*[sc])(\\\")\"                 # %c, %s or %10s\n",
        "  subst = \"~~~\\\\2~~~\"                               # mark strings with ~~~\n",
        "  js5 = re.sub(regex, subst, js4, 0, re.MULTILINE)\n",
        "  #return js5\n",
        "\n",
        "  js6 = js5.replace('\"','\\\\\"')                      # Now escape all quotes\n",
        "  #return js6\n",
        "\n",
        "  js7 = js6.replace('~~~','\\\\\"')                    # Now, repace the ~~~ with escaled quotes\n",
        "  #return js7\n",
        "\n",
        "  regex = r\"(\\n\\s*\\n)\"                              # remove blank lines\n",
        "  subst = \"\"\n",
        "  js8 = re.sub(regex, subst, js7, 0, re.MULTILINE)\n",
        "  #return js8\n",
        "\n",
        "  js9 = js8.replace('\\n', '\\\"\\n\\\"')                 # Put quotes at the beg and end of all lines.\n",
        "  #return js9\n",
        "\n",
        "  js10 = f'\"{js9}\"'                                 # add to beg and end of the string\n",
        "  #return js10\n",
        "\n",
        "  js11 = f'{var_def}\\n{js10};'\n",
        "  #return js11\n",
        "  doc = \"/* This was autogenerated from the above JSON using js2c.ipynb */\"\n",
        "  js12 = f'/* {comment} {js} */\\n\\n{doc}\\n{js11}\\n\\n'\n",
        "  return js12\n",
        "\n",
        "print( js2c(js) )"
      ],
      "metadata": {
        "id": "JIDyikWvatOo"
      },
      "execution_count": null,
      "outputs": []
    }
  ]
}