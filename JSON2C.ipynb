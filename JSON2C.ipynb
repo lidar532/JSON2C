{
  "nbformat": 4,
  "nbformat_minor": 0,
  "metadata": {
    "colab": {
      "name": "JSON2C.ipynb",
      "private_outputs": true,
      "provenance": [],
      "collapsed_sections": [],
      "authorship_tag": "ABX9TyOa7kpTHgl8XPd6Y/U1o5lM",
      "include_colab_link": true
    },
    "kernelspec": {
      "name": "python3",
      "display_name": "Python 3"
    },
    "language_info": {
      "name": "python"
    }
  },
  "cells": [
    {
      "cell_type": "markdown",
      "metadata": {
        "id": "view-in-github",
        "colab_type": "text"
      },
      "source": [
        "<a href=\"https://colab.research.google.com/github/lidar532/JSON2C/blob/main/JSON2C.ipynb\" target=\"_parent\"><img src=\"https://colab.research.google.com/assets/colab-badge.svg\" alt=\"Open In Colab\"/></a>"
      ]
    },
    {
      "cell_type": "markdown",
      "source": [
        "# Convert JSON string to a \"C\" sprintf formatting string.\n",
        "Enter or paste a JSON string below that you would like to convert to a \"C\" sprintf formatting statement for use in an Arduino or other project.  The JSON will be converted to a compilable \"C\" language formatting string you can copy to your Arduino code.  You can use [JASONata](https://try.jsonata.org/) or [JSON Editor Online](https://jsoneditoronline.org/) or other JSON tool to build, verify, and test your JSON string. Simply use \"C\" formatting specifiers where your values go, and JSON2C will generate the \"C\" formatting string for you.  Note that you can also enter a \"C\" comment by using the `\"comment_\"` JSON key and placing your comment text as the JSON value string.  You can name your \"C\" format variable with the JSON key `\"format_name_\"` with the desired \"C\" name in the value string.  See the example below.  I enclosed my JSON in triple quotes `'''` but it should work ok with single quotes as well.  After you enter your JSON string, press the Run arrow button to load it into the js variable use for conversion.  Additional examples are in this notebook [<img src=https://colab.research.google.com/assets/colab-badge.svg>](https://colab.research.google.com/github/lidar532/JSON2C/blob/main/JSON2C_examples.ipynb) and can be compiled and run right in Colab."
      ],
      "metadata": {
        "id": "lICiFEP_PSKq"
      }
    },
    {
      "cell_type": "code",
      "execution_count": null,
      "metadata": {
        "id": "UE4kOvQ171GW"
      },
      "outputs": [],
      "source": [
        "#@title Example 1. Put your JSON here in the `js` variable. { form-width: \"25%\", display-mode: \"both\" }\n",
        "#@markdown Run this cell , and then run Step 2 below to convert the JSON to a \"C\" format string.\n",
        "\n",
        "js = '''\n",
        "{ \n",
        "  \"format_name_\":\"my_name\",\n",
        "  \"myJSON\": {\n",
        "    \"dest\": \"%s\",\n",
        "    \"sss\": \"%0.2f\",\n",
        "    \"flash\": [ \"%f\", \"%4.2lf\", \"%ld\", \"%lu\", \"%u\", \"%d\", \"%c\" ]\n",
        "  }\n",
        "}\n",
        "'''\n"
      ]
    },
    {
      "cell_type": "code",
      "source": [
        "#@title Step 2. Click the Run button to the left to do the conversion.  { display-mode: \"form\" }\n",
        "#@markdown Your orginal JSON will be encapsulated in \n",
        "#@markdown within a \"C\" ```/* comment */``` block and\n",
        "#@markdown the \"C\" format string below.  Copy and paste the resulting \n",
        "#@markdown comments and code into your project.\n",
        "import re\n",
        "import os\n",
        "\n",
        "def js2c( js, comment=\"\" ):\n",
        "  '''\n",
        "  j2sc( js).  Converts a JSON message string that contains \"C\" language\n",
        "  format specifiers into an actual \"C\" formatting string for use with\n",
        "  sprintf or printf.  The purpose is to allow one to build and test\n",
        "  a JSON string using JSONata, or other JSON tool, and then automatically\n",
        "  convert it to a \"C\" formatting string.\n",
        "\n",
        "  Regex expressions developed using: https://regex101.com/\n",
        "  Testing JSON strings was done with: https://try.jsonata.org/\n",
        "  \"C\" verification was done using: https://www.onlinegdb.com/#\n",
        "\n",
        "  '''\n",
        "# Extract the variable definition name, if any,\n",
        "# leaving it in var_def, and the updated js with the\n",
        "# var_def removed in js2\n",
        "\n",
        "  regex = \"(^\\s+\\\"comment_\\\"\\s*:\\s*)(\\\")([\\sa-zA-Z\\.\\d%!@#$%^&\\*\\(\\)\\[\\]\\{\\}[<\\>;:|,\\?]+)(\\\")\\s*,\"\n",
        "  m = re.search(regex, js, re.MULTILINE )\n",
        "  #print(m)\n",
        "  if m:\n",
        "    js1 = js[0:m.start()]+js[m.end():]\n",
        "    comment = f'{m.groups()[2]}'\n",
        "    js1 = js[0:m.start()]+js[m.end():]\n",
        "    #print(f'/*\\n {comment}\\n/*\\n {js1}')\n",
        "  else:\n",
        "    comment = \"\"\n",
        "    js1 = js\n",
        "\n",
        "  regex = \"[ \\t]*\\\"format_name_\\\"\\ *: *(\\\")(.*)(\\\"),[\\s\\n]*\"\n",
        "  m = re.search(regex, js1, re.MULTILINE )\n",
        "  if m:\n",
        "    js2 = js1[0:m.start()]+js1[m.end():]\n",
        "    var_def = f'const char {m.groups()[1]}[] = \"\"'\n",
        "  else:\n",
        "    var_def = f'const char var_def[] = \"\"'\n",
        "    js2 = js1\n",
        "  #return js2\n",
        "\n",
        "  regex = r\"(\\\")([%][\\d]*\\.*[\\d]*l?f)(\\\")\"          # %f %lf\n",
        "  subst = \"\\\\2\"\n",
        "  js3 = re.sub(regex, subst, js2, 0, re.MULTILINE)\n",
        "  #return js4\n",
        "\n",
        "  regex = r\"(\\\")([%][\\d]*[ul]?[ldu])(\\\")\"           # %u %d %ul %ld\n",
        "  subst = \"\\\\2\"\n",
        "  js4 = re.sub(regex, subst, js3, 0, re.MULTILINE)\n",
        "  #return js4\n",
        "\n",
        "  regex = r\"(\\\")([%][\\d]*[sc])(\\\")\"                 # %c, %s or %10s\n",
        "  subst = \"~~~\\\\2~~~\"                               # mark strings with ~~~\n",
        "  js5 = re.sub(regex, subst, js4, 0, re.MULTILINE)\n",
        "  #return js5\n",
        "\n",
        "  js6 = js5.replace('\"','\\\\\"')                      # Now escape all quotes\n",
        "  #return js6\n",
        "\n",
        "  js7 = js6.replace('~~~','\\\\\"')                    # Now, repace the ~~~ with escaled quotes\n",
        "  #return js7\n",
        "\n",
        "  regex = r\"(\\n\\s*\\n)\"                              # remove blank lines\n",
        "  subst = \"\"\n",
        "  js8 = re.sub(regex, subst, js7, 0, re.MULTILINE)\n",
        "  #return js8\n",
        "\n",
        "  regex = r\"(  +)\"                                  # remove excess spaces.\n",
        "  subst = \"\"\n",
        "  js9 = re.sub(regex, subst, js8, 0, re.MULTILINE)\n",
        "\n",
        "  js10 = js9.replace('\\n', '\\\"\\n\\\"')                 # Put quotes at the beg and end of all lines.\n",
        "  #return js10\n",
        "\n",
        "  js11 = f'\"{js10}\"'                                 # add to beg and end of the string\n",
        "  #return js11\n",
        "\n",
        "  js12 = f'{var_def}\\n{js11};'\n",
        "  #return js12\n",
        "\n",
        "  t = js12.splitlines(keepends=True)                # indent \"C\" vars.\n",
        "  v = \"    \".join(t[1:])                               # Add tabs  \n",
        "  js12a = t[0]+v                                     # prepend first line                                     \n",
        "  #return js12a\n",
        "\n",
        "  doc = \"/* This was autogenerated from the above JSON using js2c.ipynb */\"\n",
        "  js13 = f'/* {comment} {js} */\\n\\n{doc}\\n{js12a}\\n\\n'\n",
        "  return js13\n",
        "\n",
        "if 'js' in globals():\n",
        "  jsc = js2c(js)\n",
        "  print(jsc)\n",
        "else:\n",
        "  print('You need to put some JSON in variable `js` first.')"
      ],
      "metadata": {
        "id": "JIDyikWvatOo"
      },
      "execution_count": null,
      "outputs": []
    },
    {
      "cell_type": "markdown",
      "source": [
        "## Additional Example JSON messages.  \n",
        "The cells below each have more examples of JSON messages.  To use them\n",
        "simple run the example cell, and then run \"Step 2.\" above to convert \n",
        "the JSON message into a \"C\" format string.  You can paste the example \n",
        "JSON into https://try.jsonata.org/ to verify it.\n"
      ],
      "metadata": {
        "id": "PT3vTcq4oBHO"
      }
    },
    {
      "cell_type": "code",
      "source": [
        "#@title Example 2. { form-width: \"25%\", display-mode: \"both\" }\n",
        "#@markdown Run this cell , and then run Step 2 below to convert the JSON to a \"C\" format string.\n",
        "\n",
        "js = '''\n",
        "  {\n",
        "     \"sensor\": \"%s\",\n",
        "     \"time\": %d,\n",
        "     \"data\": [ %f, %f]\n",
        "   }\n",
        "\n",
        "'''"
      ],
      "metadata": {
        "id": "-uxbEXc_L6V8"
      },
      "execution_count": null,
      "outputs": []
    },
    {
      "cell_type": "code",
      "source": [
        "#@title Example 3. GeoJSON Example. { form-width: \"25%\", display-mode: \"both\" }\n",
        "#@markdown see: https://geojson.org/\n",
        "#@markdown Run this cell , and then run Step 2 below to convert the JSON to a \"C\" format string.\n",
        "\n",
        "js = '''\n",
        "{\n",
        "  \"type\": \"Feature\",\n",
        "  \"geometry\": {\n",
        "    \"type\": \"Point\",\n",
        "    \"coordinates\": [\"%f\", \"%f\"]\n",
        "  },\n",
        "  \"properties\": {\n",
        "    \"name\": \"Dinagat Islands\"\n",
        "  }\n",
        "}\n",
        "'''"
      ],
      "metadata": {
        "id": "fGDzdE98OwDX"
      },
      "execution_count": null,
      "outputs": []
    },
    {
      "cell_type": "code",
      "source": [
        "#@title Example 4. Some nested JSON with GPS data. { form-width: \"25%\", display-mode: \"both\" }\n",
        "js = '''\n",
        "  {\n",
        "    \"format_name_\" : \"JSON_gps_status_fmt\",\n",
        "     \"ppksyslogger\": {\n",
        "       \"sss\" : \"%f\",\n",
        "       \"gps_stat\" : {\n",
        "         \"utc\" : \"%9.2f\",\n",
        "         \"nsat\" : \"%d\",\n",
        "         \"Q\" : \"%d\",\n",
        "         \"GPS_good\" : \"%d\",\n",
        "         \"raw_b\" : \"[%ld,%ld]\",\n",
        "         \"ascii_b\" : \"[%ld,%ld]\",\n",
        "         \"pass_b\" : \"[%ld,%ld]\"\n",
        "       }\n",
        "     }\n",
        "   } \n",
        "'''"
      ],
      "metadata": {
        "id": "59BKnH5IaK-G"
      },
      "execution_count": null,
      "outputs": []
    },
    {
      "cell_type": "markdown",
      "source": [
        "This notebook lives at: https://github.com/lidar532/JSON2C."
      ],
      "metadata": {
        "id": "6H8hHbjmtq3i"
      }
    }
  ]
}